{
 "cells": [
  {
   "cell_type": "code",
   "execution_count": 1,
   "metadata": {},
   "outputs": [
    {
     "name": "stdout",
     "output_type": "stream",
     "text": [
      "2025-04-21 15:48:09,498 - myocr.modeling.model - INFO - model - load - 203 - loaded custom model from ../modeling/configs/cls_mv3.yaml\n",
      "2025-04-21 15:48:09,873 - myocr.modeling.model - INFO - model - to_onnx - 231 - successfuly exported model to /home/robby/.MyOCR/models//cls.onnx\n"
     ]
    }
   ],
   "source": [
    "import torch\n",
    "from myocr.modeling.model import ModelZoo\n",
    "from myocr.config import MODEL_PATH\n",
    "\n",
    "model = ModelZoo.load_model(\"custom\", \"../modeling/configs/cls_mv3.yaml\", \"cuda:0\" if torch.cuda.is_available() else \"cpu\")\n",
    "\n",
    "# transform = transforms.Compose([\n",
    "#         transforms.ToTensor(),\n",
    "#         transforms.Normalize((0.1307,), (0.3081,))\n",
    "#     ])\n",
    "\n",
    "# train_dataset = MNIST(root=f'{MODEL_PATH}/data', train=True, download=True, transform=transform)\n",
    "# val_dataset = MNIST(root=f'{MODEL_PATH}/data', train=False, download=True, transform=transform)\n",
    "\n",
    "# trainer = Trainer(model,[], nn.CrossEntropyLoss(), optimizer=Adam(model.parameters(), lr=1e-3), num_epochs=15, batch_size = 500)\n",
    "# trainer.fit(train_dataset, val_dataset)\n",
    "model.to_onnx(f\"{MODEL_PATH}/cls.onnx\" , torch.randn((50,3,240,240), dtype=torch.float32).to(\"cuda:0\"))\n"
   ]
  }
 ],
 "metadata": {
  "kernelspec": {
   "display_name": "myocr",
   "language": "python",
   "name": "python3"
  },
  "language_info": {
   "codemirror_mode": {
    "name": "ipython",
    "version": 3
   },
   "file_extension": ".py",
   "mimetype": "text/x-python",
   "name": "python",
   "nbconvert_exporter": "python",
   "pygments_lexer": "ipython3",
   "version": "3.11.11"
  }
 },
 "nbformat": 4,
 "nbformat_minor": 2
}
