{
 "cells": [
  {
   "cell_type": "code",
   "execution_count": 1,
   "metadata": {},
   "outputs": [
    {
     "name": "stdout",
     "output_type": "stream",
     "text": [
      "2025-05-02 21:28:30,405 - myocr.modeling.model - INFO - model - load - 113 - Onnx model /Users/zhaogang/.MyOCR/models/dbnet++.onnx loaded to cpu,\n",
      "                    input output info: {'inputs': {'x': {'shape': ['p2o.DynamicDimension.0', 3, 'p2o.DynamicDimension.1', 'p2o.DynamicDimension.2'], 'type': 'tensor(float)'}}, 'outputs': {'sigmoid_0.tmp_0': {'shape': ['p2o.DynamicDimension.3', 1, 'p2o.DynamicDimension.4', 'p2o.DynamicDimension.5'], 'type': 'tensor(float)'}}}\n",
      "2025-05-02 21:28:30,423 - myocr.modeling.model - INFO - model - load - 113 - Onnx model /Users/zhaogang/.MyOCR/models/cls.onnx loaded to cpu,\n",
      "                    input output info: {'inputs': {'x': {'shape': ['p2o.DynamicDimension.0', 3, 'p2o.DynamicDimension.1', 'p2o.DynamicDimension.2'], 'type': 'tensor(float)'}}, 'outputs': {'softmax_0.tmp_0': {'shape': ['p2o.DynamicDimension.3', 2], 'type': 'tensor(float)'}}}\n",
      "2025-05-02 21:28:30,482 - myocr.modeling.model - INFO - model - load - 113 - Onnx model /Users/zhaogang/.MyOCR/models/rec.onnx loaded to cpu,\n",
      "                    input output info: {'inputs': {'x': {'shape': ['p2o.DynamicDimension.0', 3, 48, 'p2o.DynamicDimension.1'], 'type': 'tensor(float)'}}, 'outputs': {'softmax_11.tmp_0': {'shape': ['p2o.DynamicDimension.2', 'p2o.DynamicDimension.3', 6625], 'type': 'tensor(float)'}}}\n",
      "2025-05-02 21:28:30,499 - myocr.processors.text_detection_processor - DEBUG - text_detection_processor - postprocess - 46 - text detection output shape: (96, 800)\n",
      "time: 0.12644195556640625\n",
      "[(text=贸易战, confidence=0.0004101756203453988, bounding_box=(left=455, bottom=43, right=536, top=4, angle=(0, 0.990900993347168), score=0.9761544442599287))\n",
      ", (text=Text, confidence=0.00041010687709786, bounding_box=(left=309, bottom=46, right=362, top=14, angle=(0, 0.5030419230461121), score=0.958130224628581))\n",
      ", (text=图片, confidence=0.0004101920349057764, bounding_box=(left=216, bottom=94, right=278, top=49, angle=(180, 0.9999837875366211), score=0.8624087745125913))\n",
      ", (text=地图, confidence=0.0004101929080206901, bounding_box=(left=516, bottom=94, right=576, top=49, angle=(180, 0.9999964237213135), score=0.8862816187141002))\n",
      ", (text=贴吧, confidence=0.0004100746591575444, bounding_box=(left=415, bottom=94, right=480, top=50, angle=(180, 0.9999650716781616), score=0.8775486294930671))\n",
      ", (text=网盘, confidence=0.00041018161573447287, bounding_box=(left=115, bottom=96, right=179, top=52, angle=(180, 0.8593217730522156), score=0.894747715450362))\n",
      ", (text=视频, confidence=0.0004101890663150698, bounding_box=(left=315, bottom=96, right=379, top=52, angle=(180, 0.9999995231628418), score=0.9141776606468501))\n",
      ", (text=新闻, confidence=0.00041017349576577544, bounding_box=(left=750, bottom=96, right=815, top=52, angle=(180, 0.9594396352767944), score=0.9047500374281384))\n",
      ", (text=文库, confidence=0.000410116947023198, bounding_box=(left=16, bottom=93, right=79, top=53, angle=(180, 0.9979997277259827), score=0.9665736178793604))\n",
      ", (text=hao123, confidence=0.0004098467470612377, bounding_box=(left=614, bottom=88, right=714, top=54, angle=(180, 1.0), score=0.8517658345577285))\n",
      "]\n"
     ]
    },
    {
     "data": {
      "image/png": "[encoded data removed]",
      "text/plain": [
       "<Figure size 640x480 with 1 Axes>"
      ]
     },
     "metadata": {},
     "output_type": "display_data"
    }
   ],
   "source": [
    "\n",
    "import time\n",
    "\n",
    "import torch\n",
    "from myocr.config import MODEL_PATH\n",
    "from myocr.modeling.model import ModelZoo\n",
    "from myocr.processors import TextDetectionProcessor, TextDirectionProcessor, TextRecognitionProcessor\n",
    "from myocr.base import Predictor\n",
    "import cv2\n",
    "import matplotlib.pyplot as plt\n",
    "import numpy as np\n",
    "\n",
    "device = \"cuda:0\" if torch.cuda.is_available() else \"cpu\"\n",
    "\n",
    "dec = ModelZoo.load_model(\"onnx\", MODEL_PATH+\"dbnet++.onnx\", device)\n",
    "model = ModelZoo.load_model(\"onnx\", MODEL_PATH+\"cls.onnx\", device)\n",
    "rec_model = ModelZoo.load_model(\"onnx\", MODEL_PATH+\"rec.onnx\", device)\n",
    "\n",
    "orig_image = cv2.imread(\"../tests/images/test_ocr2.png\")\n",
    "start_time = time.time()\n",
    "dec_predictor = Predictor(dec,TextDetectionProcessor(dec.device))\n",
    "detected = dec_predictor.predict(orig_image)\n",
    "if not detected:\n",
    "    print(\"Nothing detected\")\n",
    "else:\n",
    "    p = Predictor(model, TextDirectionProcessor())\n",
    "    rec = p.predict(detected)\n",
    "    p_rec = Predictor(rec_model, TextRecognitionProcessor())\n",
    "    result = p_rec.predict(rec)\n",
    "    end_time = time.time()\n",
    "    print(f\"time: {end_time - start_time}\")\n",
    "    print(result)\n",
    "    \n",
    "for box in detected.bounding_boxes: # type: ignore\n",
    "    pts = [\n",
    "        [int(box.left), int(box.top)],       # top-left\n",
    "        [int(box.right), int(box.top)],      # top-right\n",
    "        [int(box.right), int(box.bottom)],   # bottom-right\n",
    "        [int(box.left), int(box.bottom)],    # bottom-left\n",
    "    ]\n",
    "    pts = np.array(pts).reshape((-1,2,1))\n",
    "    cv2.polylines(orig_image, [np.array(pts, dtype=np.int32)], isClosed=True, color=(255, 0, 0), thickness=2)\n",
    "\n",
    "plt.imshow(orig_image)\n",
    "plt.axis(\"off\")\n",
    "plt.show()"
   ]
  }
 ],
 "metadata": {
  "kernelspec": {
   "display_name": ".venv",
   "language": "python",
   "name": "python3"
  },
  "language_info": {
   "codemirror_mode": {
    "name": "ipython",
    "version": 3
   },
   "file_extension": ".py",
   "mimetype": "text/x-python",
   "name": "python",
   "nbconvert_exporter": "python",
   "pygments_lexer": "ipython3",
   "version": "3.11.9"
  }
 },
 "nbformat": 4,
 "nbformat_minor": 2
}
