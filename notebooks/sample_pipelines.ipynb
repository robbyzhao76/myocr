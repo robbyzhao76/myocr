{
 "cells": [
  {
   "cell_type": "code",
   "execution_count": null,
   "metadata": {},
   "outputs": [],
   "source": [
    "from myocr.pipelines import CommonOCRPipeline\n",
    "\n",
    "common_ocr_pipeline = CommonOCRPipeline(\"cuda:0\")\n",
    "res = common_ocr_pipeline(\"../tests/images/invoice.png\")\n",
    "print(res)\n"
   ]
  },
  {
   "cell_type": "code",
   "execution_count": null,
   "metadata": {},
   "outputs": [],
   "source": [
    "from pydantic import BaseModel, Field\n",
    "from myocr.pipelines import StructuredOutputOCRPipeline\n",
    "\n",
    "class InvoiceItem(BaseModel):\n",
    "    name:str = Field(\n",
    "        description=\"发票中的项目名称\"\n",
    "    )\n",
    "    price:float = Field(\n",
    "        description=\"项目单价\"\n",
    "    )\n",
    "    number:str = Field(\n",
    "        description=\"项目数量\"\n",
    "    )\n",
    "    tax:str = Field(\n",
    "        description=\"项目税额，请转为两位小数表示\"\n",
    "    )\n",
    "\n",
    "class InvoiceModel(BaseModel):\n",
    "    invoiceNumber:str = Field(\n",
    "        description=\"发票号码，一般在发票的又上角\"\n",
    "    )\n",
    "    invoiceDate:str = Field(\n",
    "        description=\"发票日期，每张发票都有一个开票日期，一般在发票的右上角，请用这种格式展示 yyyy/MM/DD\"\n",
    "    )\n",
    "    invoiceItems: list[InvoiceItem] = Field(\n",
    "        description=\"发票中的项目列表，这是发票中的主要内容，一般包含项目的名称，单价，数量，总价，税率，税额等，注意：这个字段是数组类型\"\n",
    "    )\n",
    "    totalAmount:float = Field(\n",
    "        description=\"发票的总金额\"\n",
    "    )\n",
    "\n",
    "\n",
    "pipeline = StructuredOutputOCRPipeline(\"cuda:0\", InvoiceModel)\n",
    "pipeline(\"../tests/images/invoice.png\")\n",
    "\n"
   ]
  }
 ],
 "metadata": {
  "kernelspec": {
   "display_name": ".venv",
   "language": "python",
   "name": "python3"
  },
  "language_info": {
   "codemirror_mode": {
    "name": "ipython",
    "version": 3
   },
   "file_extension": ".py",
   "mimetype": "text/x-python",
   "name": "python",
   "nbconvert_exporter": "python",
   "pygments_lexer": "ipython3",
   "version": "3.11.9"
  }
 },
 "nbformat": 4,
 "nbformat_minor": 2
}
